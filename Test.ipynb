{
 "cells": [
  {
   "cell_type": "markdown",
   "id": "d0d606e4-a529-4331-884d-c38f6aa470d3",
   "metadata": {},
   "source": [
    "# Kinship Verification Test\n"
   ]
  },
  {
   "cell_type": "code",
   "execution_count": 57,
   "id": "75241171-77ae-4575-9d80-b845dceac79c",
   "metadata": {},
   "outputs": [],
   "source": [
    "import cv2\n",
    "import os\n",
    "from PIL import Image\n",
    "import numpy as np"
   ]
  },
  {
   "cell_type": "code",
   "execution_count": 76,
   "id": "8db8ae1b-26f3-414d-ad55-0cbe6b852100",
   "metadata": {},
   "outputs": [],
   "source": [
    "def load_images(path):\n",
    "    images = []\n",
    "    for root, dirs, files in os.walk(path):\n",
    "        for i in files:\n",
    "            if i[-4:]== \".jpg\":\n",
    "                images.append(Image.open(root+'/' + i))\n",
    "    return images"
   ]
  },
  {
   "cell_type": "code",
   "execution_count": 78,
   "id": "1cf464a7-4f76-445c-b6e8-ee106ad26b79",
   "metadata": {},
   "outputs": [
    {
     "name": "stdout",
     "output_type": "stream",
     "text": [
      "500\n",
      "500\n",
      "500\n",
      "500\n"
     ]
    }
   ],
   "source": [
    "father_dau_img = load_images(r'C:\\Users\\KIIT\\Prerak\\Prerak_Code\\Datasets\\KinFaceW-II\\images\\father-dau')\n",
    "father_son_img = load_images(r'C:\\Users\\KIIT\\Prerak\\Prerak_Code\\Datasets\\KinFaceW-II\\images\\father-son')\n",
    "mother_dau_img = load_images(r'C:\\Users\\KIIT\\Prerak\\Prerak_Code\\Datasets\\KinFaceW-II\\images\\mother-dau')\n",
    "mother_son_img = load_images(r'C:\\Users\\KIIT\\Prerak\\Prerak_Code\\Datasets\\KinFaceW-II\\images\\mother-son')\n",
    "print(len(father_dau_img))\n",
    "print(len(father_son_img))\n",
    "print(len(mother_dau_img))\n",
    "print(len(mother_son_img))"
   ]
  },
  {
   "cell_type": "code",
   "execution_count": 79,
   "id": "d3d78e65-64d2-4cb7-936b-dce24346c163",
   "metadata": {},
   "outputs": [],
   "source": [
    "def img_to_array(images):\n",
    "    imgArr = []\n",
    "    for i in images:\n",
    "        imgArr.append(np.asarray(i))\n",
    "        \n",
    "    return imgArr"
   ]
  },
  {
   "cell_type": "code",
   "execution_count": 82,
   "id": "4b0e198d-d260-4a3c-8a9b-7df5a0f60b3b",
   "metadata": {},
   "outputs": [
    {
     "name": "stdout",
     "output_type": "stream",
     "text": [
      "500\n",
      "500\n",
      "500\n",
      "500\n",
      "(64, 64, 3)\n"
     ]
    }
   ],
   "source": [
    "father_dau_img_arr = img_to_array(father_dau_img)\n",
    "father_son_img_arr = img_to_array(father_son_img)\n",
    "mother_dau_img_arr = img_to_array(mother_dau_img)\n",
    "mother_son_img_arr = img_to_array(mother_son_img)\n",
    "print(len(father_dau_img_arr))\n",
    "print(len(father_son_img_arr))\n",
    "print(len(mother_dau_img_arr))\n",
    "print(len(mother_son_img_arr))\n",
    "print(father_dau_img_arr[0].shape)"
   ]
  },
  {
   "cell_type": "code",
   "execution_count": null,
   "id": "d8daa705-a6d7-4a65-9211-90b98c00cb6e",
   "metadata": {},
   "outputs": [],
   "source": []
  }
 ],
 "metadata": {
  "kernelspec": {
   "display_name": "Python 3 (ipykernel)",
   "language": "python",
   "name": "python3"
  },
  "language_info": {
   "codemirror_mode": {
    "name": "ipython",
    "version": 3
   },
   "file_extension": ".py",
   "mimetype": "text/x-python",
   "name": "python",
   "nbconvert_exporter": "python",
   "pygments_lexer": "ipython3",
   "version": "3.8.5"
  }
 },
 "nbformat": 4,
 "nbformat_minor": 5
}
